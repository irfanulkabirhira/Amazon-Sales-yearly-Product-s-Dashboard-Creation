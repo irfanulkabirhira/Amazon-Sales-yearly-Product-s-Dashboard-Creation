{
 "cells": [
  {
   "cell_type": "markdown",
   "id": "f37ee976-32fb-4607-bd35-5c0184953405",
   "metadata": {},
   "source": [
    "# 📌importing Dataset"
   ]
  },
  {
   "cell_type": "code",
   "execution_count": 1,
   "id": "58d25c1f-d30d-450d-abb6-bf898ca2300c",
   "metadata": {},
   "outputs": [
    {
     "data": {
      "text/html": [
       "<div>\n",
       "<style scoped>\n",
       "    .dataframe tbody tr th:only-of-type {\n",
       "        vertical-align: middle;\n",
       "    }\n",
       "\n",
       "    .dataframe tbody tr th {\n",
       "        vertical-align: top;\n",
       "    }\n",
       "\n",
       "    .dataframe thead th {\n",
       "        text-align: right;\n",
       "    }\n",
       "</style>\n",
       "<table border=\"1\" class=\"dataframe\">\n",
       "  <thead>\n",
       "    <tr style=\"text-align: right;\">\n",
       "      <th></th>\n",
       "      <th>Row ID</th>\n",
       "      <th>Order ID</th>\n",
       "      <th>Order Date</th>\n",
       "      <th>Ship Date</th>\n",
       "      <th>Ship Mode</th>\n",
       "      <th>Customer ID</th>\n",
       "      <th>Customer Name</th>\n",
       "      <th>Segment</th>\n",
       "      <th>Postal Code</th>\n",
       "      <th>City</th>\n",
       "      <th>State</th>\n",
       "      <th>Country</th>\n",
       "      <th>Region</th>\n",
       "      <th>Market</th>\n",
       "      <th>Product ID</th>\n",
       "      <th>Category</th>\n",
       "      <th>Sub-Category</th>\n",
       "      <th>Product Name</th>\n",
       "      <th>Sales</th>\n",
       "      <th>Quantity</th>\n",
       "      <th>Discount</th>\n",
       "      <th>Profit</th>\n",
       "      <th>Shipping Cost</th>\n",
       "      <th>Order Priority</th>\n",
       "    </tr>\n",
       "  </thead>\n",
       "  <tbody>\n",
       "    <tr>\n",
       "      <th>0</th>\n",
       "      <td>40098</td>\n",
       "      <td>CA-2014-AB10015140-41954</td>\n",
       "      <td>11/11/2014</td>\n",
       "      <td>13/11/2014</td>\n",
       "      <td>First Class</td>\n",
       "      <td>AB-100151402</td>\n",
       "      <td>Aaron Bergman</td>\n",
       "      <td>Consumer</td>\n",
       "      <td>73120.0</td>\n",
       "      <td>Oklahoma City</td>\n",
       "      <td>Oklahoma</td>\n",
       "      <td>United States</td>\n",
       "      <td>Central US</td>\n",
       "      <td>USCA</td>\n",
       "      <td>TEC-PH-5816</td>\n",
       "      <td>Technology</td>\n",
       "      <td>Phones</td>\n",
       "      <td>Samsung Convoy 3</td>\n",
       "      <td>$221.98</td>\n",
       "      <td>2</td>\n",
       "      <td>0.0</td>\n",
       "      <td>$62.15</td>\n",
       "      <td>40.77</td>\n",
       "      <td>High</td>\n",
       "    </tr>\n",
       "  </tbody>\n",
       "</table>\n",
       "</div>"
      ],
      "text/plain": [
       "   Row ID                  Order ID  Order Date   Ship Date  ... Discount   Profit Shipping Cost Order Priority\n",
       "0   40098  CA-2014-AB10015140-41954  11/11/2014  13/11/2014  ...      0.0  $62.15          40.77           High\n",
       "\n",
       "[1 rows x 24 columns]"
      ]
     },
     "execution_count": 1,
     "metadata": {},
     "output_type": "execute_result"
    }
   ],
   "source": [
    "import pandas as pd \n",
    "data = pd.read_csv(\"Orders.csv\")\n",
    "data.head(1)"
   ]
  },
  {
   "cell_type": "code",
   "execution_count": 2,
   "id": "9e0027fb-d588-4c49-a40e-e168f32c2ff4",
   "metadata": {},
   "outputs": [
    {
     "name": "stdout",
     "output_type": "stream",
     "text": [
      "<class 'pandas.core.frame.DataFrame'>\n",
      "RangeIndex: 51290 entries, 0 to 51289\n",
      "Data columns (total 24 columns):\n",
      " #   Column          Non-Null Count  Dtype  \n",
      "---  ------          --------------  -----  \n",
      " 0   Row ID          51290 non-null  int64  \n",
      " 1   Order ID        51290 non-null  object \n",
      " 2   Order Date      51290 non-null  object \n",
      " 3   Ship Date       51290 non-null  object \n",
      " 4   Ship Mode       51290 non-null  object \n",
      " 5   Customer ID     51290 non-null  object \n",
      " 6   Customer Name   51290 non-null  object \n",
      " 7   Segment         51290 non-null  object \n",
      " 8   Postal Code     9994 non-null   float64\n",
      " 9   City            51290 non-null  object \n",
      " 10  State           51290 non-null  object \n",
      " 11  Country         51290 non-null  object \n",
      " 12  Region          51290 non-null  object \n",
      " 13  Market          51290 non-null  object \n",
      " 14  Product ID      51290 non-null  object \n",
      " 15  Category        51290 non-null  object \n",
      " 16  Sub-Category    51290 non-null  object \n",
      " 17  Product Name    51290 non-null  object \n",
      " 18  Sales           51290 non-null  object \n",
      " 19  Quantity        51290 non-null  int64  \n",
      " 20  Discount        51290 non-null  float64\n",
      " 21  Profit          51290 non-null  object \n",
      " 22  Shipping Cost   51290 non-null  float64\n",
      " 23  Order Priority  51290 non-null  object \n",
      "dtypes: float64(3), int64(2), object(19)\n",
      "memory usage: 9.4+ MB\n"
     ]
    }
   ],
   "source": [
    "data.info()"
   ]
  },
  {
   "cell_type": "code",
   "execution_count": 4,
   "id": "5551e423-59de-477f-9db7-ea2c777cc4ef",
   "metadata": {},
   "outputs": [
    {
     "data": {
      "text/plain": [
       "(51290, 24)"
      ]
     },
     "execution_count": 4,
     "metadata": {},
     "output_type": "execute_result"
    }
   ],
   "source": [
    "data.shape"
   ]
  },
  {
   "cell_type": "markdown",
   "id": "f2bc31f3-8c46-4245-b20e-91f4622f0c90",
   "metadata": {},
   "source": [
    "# 📌Check the Null value"
   ]
  },
  {
   "cell_type": "code",
   "execution_count": 3,
   "id": "79c2c914-a93c-47b7-85ff-a00569f73c62",
   "metadata": {},
   "outputs": [
    {
     "data": {
      "text/plain": [
       "Row ID                0\n",
       "Order ID              0\n",
       "Order Date            0\n",
       "Ship Date             0\n",
       "Ship Mode             0\n",
       "Customer ID           0\n",
       "Customer Name         0\n",
       "Segment               0\n",
       "Postal Code       41296\n",
       "City                  0\n",
       "State                 0\n",
       "Country               0\n",
       "Region                0\n",
       "Market                0\n",
       "Product ID            0\n",
       "Category              0\n",
       "Sub-Category          0\n",
       "Product Name          0\n",
       "Sales                 0\n",
       "Quantity              0\n",
       "Discount              0\n",
       "Profit                0\n",
       "Shipping Cost         0\n",
       "Order Priority        0\n",
       "dtype: int64"
      ]
     },
     "execution_count": 3,
     "metadata": {},
     "output_type": "execute_result"
    }
   ],
   "source": [
    "data.isnull().sum()"
   ]
  },
  {
   "cell_type": "code",
   "execution_count": 6,
   "id": "ce16067c-67ed-423b-b879-cb919e9a7b7b",
   "metadata": {},
   "outputs": [
    {
     "data": {
      "image/png": "[encoded data removed]",
      "text/plain": [
       "<Figure size 640x480 with 2 Axes>"
      ]
     },
     "metadata": {},
     "output_type": "display_data"
    }
   ],
   "source": [
    "import seaborn as sns \n",
    "import matplotlib.pyplot as plt\n",
    "\n",
    "sns.heatmap(data.isnull())\n",
    "plt.show()"
   ]
  },
  {
   "cell_type": "markdown",
   "id": "a0862066-7da5-4d7f-8e9a-d41682e18707",
   "metadata": {},
   "source": [
    "# 📌Drop the Postal Code Column"
   ]
  },
  {
   "cell_type": "code",
   "execution_count": 8,
   "id": "1a6cc82f-52f1-4153-b825-3462af448a2e",
   "metadata": {},
   "outputs": [],
   "source": [
    "data.drop(columns=['Postal Code'], inplace=True)"
   ]
  },
  {
   "cell_type": "code",
   "execution_count": 9,
   "id": "09db90f4-f2fc-4423-a3c3-b4ad5f90cc41",
   "metadata": {},
   "outputs": [
    {
     "name": "stdout",
     "output_type": "stream",
     "text": [
      "<class 'pandas.core.frame.DataFrame'>\n",
      "RangeIndex: 51290 entries, 0 to 51289\n",
      "Data columns (total 23 columns):\n",
      " #   Column          Non-Null Count  Dtype  \n",
      "---  ------          --------------  -----  \n",
      " 0   Row ID          51290 non-null  int64  \n",
      " 1   Order ID        51290 non-null  object \n",
      " 2   Order Date      51290 non-null  object \n",
      " 3   Ship Date       51290 non-null  object \n",
      " 4   Ship Mode       51290 non-null  object \n",
      " 5   Customer ID     51290 non-null  object \n",
      " 6   Customer Name   51290 non-null  object \n",
      " 7   Segment         51290 non-null  object \n",
      " 8   City            51290 non-null  object \n",
      " 9   State           51290 non-null  object \n",
      " 10  Country         51290 non-null  object \n",
      " 11  Region          51290 non-null  object \n",
      " 12  Market          51290 non-null  object \n",
      " 13  Product ID      51290 non-null  object \n",
      " 14  Category        51290 non-null  object \n",
      " 15  Sub-Category    51290 non-null  object \n",
      " 16  Product Name    51290 non-null  object \n",
      " 17  Sales           51290 non-null  object \n",
      " 18  Quantity        51290 non-null  int64  \n",
      " 19  Discount        51290 non-null  float64\n",
      " 20  Profit          51290 non-null  object \n",
      " 21  Shipping Cost   51290 non-null  float64\n",
      " 22  Order Priority  51290 non-null  object \n",
      "dtypes: float64(2), int64(2), object(19)\n",
      "memory usage: 9.0+ MB\n"
     ]
    }
   ],
   "source": [
    "data.info()"
   ]
  },
  {
   "cell_type": "code",
   "execution_count": 10,
   "id": "5b5a822e-a4bd-4e0f-9c23-e864faa9b84e",
   "metadata": {},
   "outputs": [
    {
     "data": {
      "text/plain": [
       "Row ID            0\n",
       "Order ID          0\n",
       "Order Date        0\n",
       "Ship Date         0\n",
       "Ship Mode         0\n",
       "Customer ID       0\n",
       "Customer Name     0\n",
       "Segment           0\n",
       "City              0\n",
       "State             0\n",
       "Country           0\n",
       "Region            0\n",
       "Market            0\n",
       "Product ID        0\n",
       "Category          0\n",
       "Sub-Category      0\n",
       "Product Name      0\n",
       "Sales             0\n",
       "Quantity          0\n",
       "Discount          0\n",
       "Profit            0\n",
       "Shipping Cost     0\n",
       "Order Priority    0\n",
       "dtype: int64"
      ]
     },
     "execution_count": 10,
     "metadata": {},
     "output_type": "execute_result"
    }
   ],
   "source": [
    "data.isnull().sum()"
   ]
  },
  {
   "cell_type": "markdown",
   "id": "eb22f5ef-1ea5-4660-9a19-6009ed8a2074",
   "metadata": {},
   "source": [
    "# 📌Rename the Column name --> "
   ]
  },
  {
   "cell_type": "code",
   "execution_count": 14,
   "id": "309528a9-5d4c-4f8e-9ce4-477aa2c97034",
   "metadata": {},
   "outputs": [],
   "source": [
    "data.rename(columns={'Row ID' : 'Row_ID'}, inplace=True)"
   ]
  },
  {
   "cell_type": "code",
   "execution_count": 16,
   "id": "6a0ee34c-a5f5-4d1b-ae5e-c9eb5ee75cd2",
   "metadata": {},
   "outputs": [],
   "source": [
    "data .rename(columns={'Order ID' : 'Order_ID'}, inplace=True)"
   ]
  },
  {
   "cell_type": "code",
   "execution_count": 17,
   "id": "1b9eaf96-0a55-4b38-bf9c-6fb6556b07ad",
   "metadata": {},
   "outputs": [],
   "source": [
    "data.rename(columns={'Order Date': 'Order_Date'}, inplace=True)"
   ]
  },
  {
   "cell_type": "code",
   "execution_count": 18,
   "id": "478edfa6-fc2d-4c96-8320-d2dfa9e0c68c",
   "metadata": {},
   "outputs": [],
   "source": [
    "data.rename(columns={'Ship Date': 'Ship_Date'}, inplace=True)"
   ]
  },
  {
   "cell_type": "code",
   "execution_count": 20,
   "id": "caa79320-8690-47db-becf-bbc5f594554d",
   "metadata": {},
   "outputs": [],
   "source": [
    "data.rename(columns={'Customer ID': 'Customer_ID'}, inplace=True)"
   ]
  },
  {
   "cell_type": "code",
   "execution_count": 24,
   "id": "5f851821-ec3c-44bd-8f69-bd5e0984135d",
   "metadata": {},
   "outputs": [],
   "source": [
    "data.rename(columns={'Customer Name': 'Customer_Name'}, inplace=True)"
   ]
  },
  {
   "cell_type": "code",
   "execution_count": 23,
   "id": "18fed114-bcdf-420e-82b8-65bd138578d0",
   "metadata": {},
   "outputs": [],
   "source": [
    "data.rename(columns={'Product ID': 'Product_ID'}, inplace=True)"
   ]
  },
  {
   "cell_type": "code",
   "execution_count": 22,
   "id": "a6c32c55-5986-4178-acd6-d8a37446700a",
   "metadata": {},
   "outputs": [],
   "source": [
    "data.rename(columns={'Sub-Category': 'Sub_Category'}, inplace=True)"
   ]
  },
  {
   "cell_type": "code",
   "execution_count": 25,
   "id": "5a7740de-949a-40bf-ab39-4054f9d20804",
   "metadata": {},
   "outputs": [],
   "source": [
    "data.rename(columns={'Product Name': 'Product_Name'}, inplace=True)"
   ]
  },
  {
   "cell_type": "code",
   "execution_count": 26,
   "id": "17dc627a-235b-4fde-9961-d10884820ceb",
   "metadata": {},
   "outputs": [],
   "source": [
    "data.rename(columns={'Shipping Cost': 'Shipping_Cost'}, inplace=True)"
   ]
  },
  {
   "cell_type": "code",
   "execution_count": 27,
   "id": "1600c2c0-7216-44dd-a05f-43be8e5cca08",
   "metadata": {},
   "outputs": [],
   "source": [
    "data.rename(columns={'Order Priority': 'Order_Priority'}, inplace=True)"
   ]
  },
  {
   "cell_type": "code",
   "execution_count": 28,
   "id": "a940ae6d-f3b9-492e-97c4-15e8ada1e6d6",
   "metadata": {},
   "outputs": [
    {
     "name": "stdout",
     "output_type": "stream",
     "text": [
      "<class 'pandas.core.frame.DataFrame'>\n",
      "RangeIndex: 51290 entries, 0 to 51289\n",
      "Data columns (total 23 columns):\n",
      " #   Column          Non-Null Count  Dtype  \n",
      "---  ------          --------------  -----  \n",
      " 0   Row_ID          51290 non-null  int64  \n",
      " 1   Order_ID        51290 non-null  object \n",
      " 2   Order_Date      51290 non-null  object \n",
      " 3   Ship_Date       51290 non-null  object \n",
      " 4   Ship Mode       51290 non-null  object \n",
      " 5   Customer_ID     51290 non-null  object \n",
      " 6   Customer_Name   51290 non-null  object \n",
      " 7   Segment         51290 non-null  object \n",
      " 8   City            51290 non-null  object \n",
      " 9   State           51290 non-null  object \n",
      " 10  Country         51290 non-null  object \n",
      " 11  Region          51290 non-null  object \n",
      " 12  Market          51290 non-null  object \n",
      " 13  Product_ID      51290 non-null  object \n",
      " 14  Category        51290 non-null  object \n",
      " 15  Sub_Category    51290 non-null  object \n",
      " 16  Product_Name    51290 non-null  object \n",
      " 17  Sales           51290 non-null  object \n",
      " 18  Quantity        51290 non-null  int64  \n",
      " 19  Discount        51290 non-null  float64\n",
      " 20  Profit          51290 non-null  object \n",
      " 21  Shipping_Cost   51290 non-null  float64\n",
      " 22  Order_Priority  51290 non-null  object \n",
      "dtypes: float64(2), int64(2), object(19)\n",
      "memory usage: 9.0+ MB\n"
     ]
    }
   ],
   "source": [
    "data.info()"
   ]
  },
  {
   "cell_type": "code",
   "execution_count": 29,
   "id": "f35cd9ef-7625-48b2-bf2f-b9f77c7f1af0",
   "metadata": {},
   "outputs": [
    {
     "data": {
      "text/html": [
       "<div>\n",
       "<style scoped>\n",
       "    .dataframe tbody tr th:only-of-type {\n",
       "        vertical-align: middle;\n",
       "    }\n",
       "\n",
       "    .dataframe tbody tr th {\n",
       "        vertical-align: top;\n",
       "    }\n",
       "\n",
       "    .dataframe thead th {\n",
       "        text-align: right;\n",
       "    }\n",
       "</style>\n",
       "<table border=\"1\" class=\"dataframe\">\n",
       "  <thead>\n",
       "    <tr style=\"text-align: right;\">\n",
       "      <th></th>\n",
       "      <th>Row_ID</th>\n",
       "      <th>Order_ID</th>\n",
       "      <th>Order_Date</th>\n",
       "      <th>Ship_Date</th>\n",
       "      <th>Ship Mode</th>\n",
       "      <th>Customer_ID</th>\n",
       "      <th>Customer_Name</th>\n",
       "      <th>Segment</th>\n",
       "      <th>City</th>\n",
       "      <th>State</th>\n",
       "      <th>Country</th>\n",
       "      <th>Region</th>\n",
       "      <th>Market</th>\n",
       "      <th>Product_ID</th>\n",
       "      <th>Category</th>\n",
       "      <th>Sub_Category</th>\n",
       "      <th>Product_Name</th>\n",
       "      <th>Sales</th>\n",
       "      <th>Quantity</th>\n",
       "      <th>Discount</th>\n",
       "      <th>Profit</th>\n",
       "      <th>Shipping_Cost</th>\n",
       "      <th>Order_Priority</th>\n",
       "    </tr>\n",
       "  </thead>\n",
       "  <tbody>\n",
       "    <tr>\n",
       "      <th>0</th>\n",
       "      <td>40098</td>\n",
       "      <td>CA-2014-AB10015140-41954</td>\n",
       "      <td>11/11/2014</td>\n",
       "      <td>13/11/2014</td>\n",
       "      <td>First Class</td>\n",
       "      <td>AB-100151402</td>\n",
       "      <td>Aaron Bergman</td>\n",
       "      <td>Consumer</td>\n",
       "      <td>Oklahoma City</td>\n",
       "      <td>Oklahoma</td>\n",
       "      <td>United States</td>\n",
       "      <td>Central US</td>\n",
       "      <td>USCA</td>\n",
       "      <td>TEC-PH-5816</td>\n",
       "      <td>Technology</td>\n",
       "      <td>Phones</td>\n",
       "      <td>Samsung Convoy 3</td>\n",
       "      <td>$221.98</td>\n",
       "      <td>2</td>\n",
       "      <td>0.0</td>\n",
       "      <td>$62.15</td>\n",
       "      <td>40.77</td>\n",
       "      <td>High</td>\n",
       "    </tr>\n",
       "  </tbody>\n",
       "</table>\n",
       "</div>"
      ],
      "text/plain": [
       "   Row_ID                  Order_ID  Order_Date   Ship_Date  ... Discount   Profit Shipping_Cost Order_Priority\n",
       "0   40098  CA-2014-AB10015140-41954  11/11/2014  13/11/2014  ...      0.0  $62.15          40.77           High\n",
       "\n",
       "[1 rows x 23 columns]"
      ]
     },
     "execution_count": 29,
     "metadata": {},
     "output_type": "execute_result"
    }
   ],
   "source": [
    "data.head(1)"
   ]
  },
  {
   "cell_type": "markdown",
   "id": "490f6cfc-d101-4b1b-89e1-255c238807b5",
   "metadata": {},
   "source": [
    "# 📌Order Date --> Type formation"
   ]
  },
  {
   "cell_type": "code",
   "execution_count": 30,
   "id": "28f4e7b4-75ae-4e28-85ab-63fede8f19ba",
   "metadata": {},
   "outputs": [
    {
     "data": {
      "text/plain": [
       "0        11/11/2014\n",
       "1          5/2/2014\n",
       "2        17/10/2014\n",
       "3         28/1/2014\n",
       "4         5/11/2014\n",
       "            ...    \n",
       "51285     19/6/2015\n",
       "51286      6/5/2014\n",
       "51287     26/8/2012\n",
       "51288     17/2/2013\n",
       "51289     22/5/2013\n",
       "Name: Order_Date, Length: 51290, dtype: object"
      ]
     },
     "execution_count": 30,
     "metadata": {},
     "output_type": "execute_result"
    }
   ],
   "source": [
    "data['Order_Date']"
   ]
  },
  {
   "cell_type": "code",
   "execution_count": 36,
   "id": "6fab2956-a64e-41ad-a8eb-ef9597b31b34",
   "metadata": {},
   "outputs": [],
   "source": [
    "data['Order_Date']=pd.to_datetime(data['Order_Date'], format='%d/%m/%Y')"
   ]
  },
  {
   "cell_type": "code",
   "execution_count": 37,
   "id": "4763d358-66ff-4697-b4b4-a09f533df65c",
   "metadata": {},
   "outputs": [
    {
     "name": "stdout",
     "output_type": "stream",
     "text": [
      "<class 'pandas.core.frame.DataFrame'>\n",
      "RangeIndex: 51290 entries, 0 to 51289\n",
      "Data columns (total 23 columns):\n",
      " #   Column          Non-Null Count  Dtype         \n",
      "---  ------          --------------  -----         \n",
      " 0   Row_ID          51290 non-null  int64         \n",
      " 1   Order_ID        51290 non-null  object        \n",
      " 2   Order_Date      51290 non-null  datetime64[ns]\n",
      " 3   Ship_Date       51290 non-null  object        \n",
      " 4   Ship Mode       51290 non-null  object        \n",
      " 5   Customer_ID     51290 non-null  object        \n",
      " 6   Customer_Name   51290 non-null  object        \n",
      " 7   Segment         51290 non-null  object        \n",
      " 8   City            51290 non-null  object        \n",
      " 9   State           51290 non-null  object        \n",
      " 10  Country         51290 non-null  object        \n",
      " 11  Region          51290 non-null  object        \n",
      " 12  Market          51290 non-null  object        \n",
      " 13  Product_ID      51290 non-null  object        \n",
      " 14  Category        51290 non-null  object        \n",
      " 15  Sub_Category    51290 non-null  object        \n",
      " 16  Product_Name    51290 non-null  object        \n",
      " 17  Sales           51290 non-null  object        \n",
      " 18  Quantity        51290 non-null  int64         \n",
      " 19  Discount        51290 non-null  float64       \n",
      " 20  Profit          51290 non-null  object        \n",
      " 21  Shipping_Cost   51290 non-null  float64       \n",
      " 22  Order_Priority  51290 non-null  object        \n",
      "dtypes: datetime64[ns](1), float64(2), int64(2), object(18)\n",
      "memory usage: 9.0+ MB\n"
     ]
    }
   ],
   "source": [
    "data.info()"
   ]
  },
  {
   "cell_type": "markdown",
   "id": "06d91db2-63a8-4e1e-a241-f295e0238d6b",
   "metadata": {},
   "source": [
    "# 📌 Ship Date --> Date Type formation"
   ]
  },
  {
   "cell_type": "code",
   "execution_count": 38,
   "id": "6a1f520f-aa6f-4df1-8016-39ff224eb1a6",
   "metadata": {},
   "outputs": [],
   "source": [
    "data['Ship_Date']=pd.to_datetime(data['Ship_Date'], format='%d/%m/%Y')"
   ]
  },
  {
   "cell_type": "code",
   "execution_count": 39,
   "id": "4a7499e2-8235-4a31-a949-af11cb4a5a7d",
   "metadata": {},
   "outputs": [
    {
     "name": "stdout",
     "output_type": "stream",
     "text": [
      "<class 'pandas.core.frame.DataFrame'>\n",
      "RangeIndex: 51290 entries, 0 to 51289\n",
      "Data columns (total 23 columns):\n",
      " #   Column          Non-Null Count  Dtype         \n",
      "---  ------          --------------  -----         \n",
      " 0   Row_ID          51290 non-null  int64         \n",
      " 1   Order_ID        51290 non-null  object        \n",
      " 2   Order_Date      51290 non-null  datetime64[ns]\n",
      " 3   Ship_Date       51290 non-null  datetime64[ns]\n",
      " 4   Ship Mode       51290 non-null  object        \n",
      " 5   Customer_ID     51290 non-null  object        \n",
      " 6   Customer_Name   51290 non-null  object        \n",
      " 7   Segment         51290 non-null  object        \n",
      " 8   City            51290 non-null  object        \n",
      " 9   State           51290 non-null  object        \n",
      " 10  Country         51290 non-null  object        \n",
      " 11  Region          51290 non-null  object        \n",
      " 12  Market          51290 non-null  object        \n",
      " 13  Product_ID      51290 non-null  object        \n",
      " 14  Category        51290 non-null  object        \n",
      " 15  Sub_Category    51290 non-null  object        \n",
      " 16  Product_Name    51290 non-null  object        \n",
      " 17  Sales           51290 non-null  object        \n",
      " 18  Quantity        51290 non-null  int64         \n",
      " 19  Discount        51290 non-null  float64       \n",
      " 20  Profit          51290 non-null  object        \n",
      " 21  Shipping_Cost   51290 non-null  float64       \n",
      " 22  Order_Priority  51290 non-null  object        \n",
      "dtypes: datetime64[ns](2), float64(2), int64(2), object(17)\n",
      "memory usage: 9.0+ MB\n"
     ]
    }
   ],
   "source": [
    "data.info()"
   ]
  },
  {
   "cell_type": "code",
   "execution_count": 40,
   "id": "906f7f0a-0ef1-40bf-bf6b-4cf1bbc19a68",
   "metadata": {},
   "outputs": [
    {
     "data": {
      "text/html": [
       "<div>\n",
       "<style scoped>\n",
       "    .dataframe tbody tr th:only-of-type {\n",
       "        vertical-align: middle;\n",
       "    }\n",
       "\n",
       "    .dataframe tbody tr th {\n",
       "        vertical-align: top;\n",
       "    }\n",
       "\n",
       "    .dataframe thead th {\n",
       "        text-align: right;\n",
       "    }\n",
       "</style>\n",
       "<table border=\"1\" class=\"dataframe\">\n",
       "  <thead>\n",
       "    <tr style=\"text-align: right;\">\n",
       "      <th></th>\n",
       "      <th>Row_ID</th>\n",
       "      <th>Order_ID</th>\n",
       "      <th>Order_Date</th>\n",
       "      <th>Ship_Date</th>\n",
       "      <th>Ship Mode</th>\n",
       "      <th>Customer_ID</th>\n",
       "      <th>Customer_Name</th>\n",
       "      <th>Segment</th>\n",
       "      <th>City</th>\n",
       "      <th>State</th>\n",
       "      <th>Country</th>\n",
       "      <th>Region</th>\n",
       "      <th>Market</th>\n",
       "      <th>Product_ID</th>\n",
       "      <th>Category</th>\n",
       "      <th>Sub_Category</th>\n",
       "      <th>Product_Name</th>\n",
       "      <th>Sales</th>\n",
       "      <th>Quantity</th>\n",
       "      <th>Discount</th>\n",
       "      <th>Profit</th>\n",
       "      <th>Shipping_Cost</th>\n",
       "      <th>Order_Priority</th>\n",
       "    </tr>\n",
       "  </thead>\n",
       "  <tbody>\n",
       "    <tr>\n",
       "      <th>0</th>\n",
       "      <td>40098</td>\n",
       "      <td>CA-2014-AB10015140-41954</td>\n",
       "      <td>2014-11-11</td>\n",
       "      <td>2014-11-13</td>\n",
       "      <td>First Class</td>\n",
       "      <td>AB-100151402</td>\n",
       "      <td>Aaron Bergman</td>\n",
       "      <td>Consumer</td>\n",
       "      <td>Oklahoma City</td>\n",
       "      <td>Oklahoma</td>\n",
       "      <td>United States</td>\n",
       "      <td>Central US</td>\n",
       "      <td>USCA</td>\n",
       "      <td>TEC-PH-5816</td>\n",
       "      <td>Technology</td>\n",
       "      <td>Phones</td>\n",
       "      <td>Samsung Convoy 3</td>\n",
       "      <td>$221.98</td>\n",
       "      <td>2</td>\n",
       "      <td>0.0</td>\n",
       "      <td>$62.15</td>\n",
       "      <td>40.77</td>\n",
       "      <td>High</td>\n",
       "    </tr>\n",
       "    <tr>\n",
       "      <th>1</th>\n",
       "      <td>26341</td>\n",
       "      <td>IN-2014-JR162107-41675</td>\n",
       "      <td>2014-02-05</td>\n",
       "      <td>2014-02-07</td>\n",
       "      <td>Second Class</td>\n",
       "      <td>JR-162107</td>\n",
       "      <td>Justin Ritter</td>\n",
       "      <td>Corporate</td>\n",
       "      <td>Wollongong</td>\n",
       "      <td>New South Wales</td>\n",
       "      <td>Australia</td>\n",
       "      <td>Oceania</td>\n",
       "      <td>Asia Pacific</td>\n",
       "      <td>FUR-CH-5379</td>\n",
       "      <td>Furniture</td>\n",
       "      <td>Chairs</td>\n",
       "      <td>Novimex Executive Leather Armchair, Black</td>\n",
       "      <td>$3,709.40</td>\n",
       "      <td>9</td>\n",
       "      <td>0.1</td>\n",
       "      <td>($288.77)</td>\n",
       "      <td>923.63</td>\n",
       "      <td>Critical</td>\n",
       "    </tr>\n",
       "  </tbody>\n",
       "</table>\n",
       "</div>"
      ],
      "text/plain": [
       "   Row_ID                  Order_ID Order_Date  Ship_Date  ... Discount     Profit Shipping_Cost Order_Priority\n",
       "0   40098  CA-2014-AB10015140-41954 2014-11-11 2014-11-13  ...      0.0    $62.15          40.77           High\n",
       "1   26341    IN-2014-JR162107-41675 2014-02-05 2014-02-07  ...      0.1  ($288.77)        923.63       Critical\n",
       "\n",
       "[2 rows x 23 columns]"
      ]
     },
     "execution_count": 40,
     "metadata": {},
     "output_type": "execute_result"
    }
   ],
   "source": [
    "data.head(2)"
   ]
  },
  {
   "cell_type": "code",
   "execution_count": 41,
   "id": "472b6900-0e16-4794-a5ea-ffb2fe53612e",
   "metadata": {},
   "outputs": [],
   "source": [
    "data.to_csv(r'C:\\Users\\hirak\\Downloads\\Amozon Data Cleaing Hira\\Cleaned_amazon_dataset_using_python.csv')"
   ]
  },
  {
   "cell_type": "code",
   "execution_count": null,
   "id": "3111aa7e-9b3b-4dcf-b504-0a5f281e9bcd",
   "metadata": {},
   "outputs": [],
   "source": []
  },
  {
   "cell_type": "code",
   "execution_count": null,
   "id": "c43f9643-e546-4418-a733-a2837dfdae44",
   "metadata": {},
   "outputs": [],
   "source": []
  }
 ],
 "metadata": {
  "kernelspec": {
   "display_name": "Python 3 (ipykernel)",
   "language": "python",
   "name": "python3"
  },
  "language_info": {
   "codemirror_mode": {
    "name": "ipython",
    "version": 3
   },
   "file_extension": ".py",
   "mimetype": "text/x-python",
   "name": "python",
   "nbconvert_exporter": "python",
   "pygments_lexer": "ipython3",
   "version": "3.12.3"
  }
 },
 "nbformat": 4,
 "nbformat_minor": 5
}
